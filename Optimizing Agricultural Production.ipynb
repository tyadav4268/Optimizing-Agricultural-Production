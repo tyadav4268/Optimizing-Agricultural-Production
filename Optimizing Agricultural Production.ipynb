{
 "cells": [
  {
   "cell_type": "markdown",
   "id": "dying-overview",
   "metadata": {},
   "source": [
    "# Agricultural Production Optimization \n",
    " __Problem Statement:__  Build a Prdictive Model so as to suggest the most suitable Crops to grow based on the available Climatic and Soil conditions.<br>\n",
    "__Goal:__ Achive Precision Farming by Optimizing the Agricultural Production."
   ]
  },
  {
   "cell_type": "markdown",
   "id": "hydraulic-robert",
   "metadata": {},
   "source": [
    "This Project is intended on Precision Farming.<br>\n",
    "   - We have to optimize Productivity\n",
    "   - By understanding requirements of Climatic and Soil Conditions for Crops."
   ]
  },
  {
   "cell_type": "code",
   "execution_count": 1,
   "id": "tutorial-effort",
   "metadata": {},
   "outputs": [],
   "source": [
    "# importing required libraries\n",
    "# 1. for data manipulation\n",
    "import numpy as np\n",
    "import pandas as pd\n",
    "# 2. for visualizations\n",
    "import matplotlib.pyplot as plt\n",
    "import seaborn as sns\n",
    "# 3. for interaction\n",
    "from ipywidgets import interact"
   ]
  },
  {
   "cell_type": "code",
   "execution_count": 2,
   "id": "fitted-provision",
   "metadata": {},
   "outputs": [],
   "source": [
    "# Lets read the dataset\n",
    "data = pd.read_csv(\"data.csv\")"
   ]
  },
  {
   "cell_type": "code",
   "execution_count": 3,
   "id": "flying-victorian",
   "metadata": {},
   "outputs": [
    {
     "data": {
      "text/html": [
       "<div>\n",
       "<style scoped>\n",
       "    .dataframe tbody tr th:only-of-type {\n",
       "        vertical-align: middle;\n",
       "    }\n",
       "\n",
       "    .dataframe tbody tr th {\n",
       "        vertical-align: top;\n",
       "    }\n",
       "\n",
       "    .dataframe thead th {\n",
       "        text-align: right;\n",
       "    }\n",
       "</style>\n",
       "<table border=\"1\" class=\"dataframe\">\n",
       "  <thead>\n",
       "    <tr style=\"text-align: right;\">\n",
       "      <th></th>\n",
       "      <th>N</th>\n",
       "      <th>P</th>\n",
       "      <th>K</th>\n",
       "      <th>temperature</th>\n",
       "      <th>humidity</th>\n",
       "      <th>ph</th>\n",
       "      <th>rainfall</th>\n",
       "      <th>label</th>\n",
       "    </tr>\n",
       "  </thead>\n",
       "  <tbody>\n",
       "    <tr>\n",
       "      <th>0</th>\n",
       "      <td>90</td>\n",
       "      <td>42</td>\n",
       "      <td>43</td>\n",
       "      <td>20.879744</td>\n",
       "      <td>82.002744</td>\n",
       "      <td>6.502985</td>\n",
       "      <td>202.935536</td>\n",
       "      <td>rice</td>\n",
       "    </tr>\n",
       "    <tr>\n",
       "      <th>1</th>\n",
       "      <td>85</td>\n",
       "      <td>58</td>\n",
       "      <td>41</td>\n",
       "      <td>21.770462</td>\n",
       "      <td>80.319644</td>\n",
       "      <td>7.038096</td>\n",
       "      <td>226.655537</td>\n",
       "      <td>rice</td>\n",
       "    </tr>\n",
       "    <tr>\n",
       "      <th>2</th>\n",
       "      <td>60</td>\n",
       "      <td>55</td>\n",
       "      <td>44</td>\n",
       "      <td>23.004459</td>\n",
       "      <td>82.320763</td>\n",
       "      <td>7.840207</td>\n",
       "      <td>263.964248</td>\n",
       "      <td>rice</td>\n",
       "    </tr>\n",
       "    <tr>\n",
       "      <th>3</th>\n",
       "      <td>74</td>\n",
       "      <td>35</td>\n",
       "      <td>40</td>\n",
       "      <td>26.491096</td>\n",
       "      <td>80.158363</td>\n",
       "      <td>6.980401</td>\n",
       "      <td>242.864034</td>\n",
       "      <td>rice</td>\n",
       "    </tr>\n",
       "    <tr>\n",
       "      <th>4</th>\n",
       "      <td>78</td>\n",
       "      <td>42</td>\n",
       "      <td>42</td>\n",
       "      <td>20.130175</td>\n",
       "      <td>81.604873</td>\n",
       "      <td>7.628473</td>\n",
       "      <td>262.717340</td>\n",
       "      <td>rice</td>\n",
       "    </tr>\n",
       "  </tbody>\n",
       "</table>\n",
       "</div>"
      ],
      "text/plain": [
       "    N   P   K  temperature   humidity        ph    rainfall label\n",
       "0  90  42  43    20.879744  82.002744  6.502985  202.935536  rice\n",
       "1  85  58  41    21.770462  80.319644  7.038096  226.655537  rice\n",
       "2  60  55  44    23.004459  82.320763  7.840207  263.964248  rice\n",
       "3  74  35  40    26.491096  80.158363  6.980401  242.864034  rice\n",
       "4  78  42  42    20.130175  81.604873  7.628473  262.717340  rice"
      ]
     },
     "execution_count": 3,
     "metadata": {},
     "output_type": "execute_result"
    }
   ],
   "source": [
    "# Lets see the top 5 rows of data\n",
    "data.head()"
   ]
  },
  {
   "cell_type": "code",
   "execution_count": 4,
   "id": "least-technology",
   "metadata": {},
   "outputs": [
    {
     "data": {
      "text/plain": [
       "(2200, 8)"
      ]
     },
     "execution_count": 4,
     "metadata": {},
     "output_type": "execute_result"
    }
   ],
   "source": [
    "# Lets find out the number of rows and columns we have in our dataset\n",
    "data.shape"
   ]
  },
  {
   "cell_type": "markdown",
   "id": "binary-warrior",
   "metadata": {},
   "source": [
    "So, we have found that our dataset contains 2200 rows and 8 columns in which 7 are features and last one is the label which we are going to predict. <br>\n",
    "From the dataset we can see find the following description of the data:\n",
    "- N, P, K and ph columns contain the Nitrogen, Phosphorus, Potassium and ph level of the soil resp.\n",
    "- Temperature, humidity and rainfall gives the details of the climatic conditions\n",
    "- label is the type of crop that is suitable as per the given soil and climatic conditions"
   ]
  },
  {
   "cell_type": "code",
   "execution_count": 5,
   "id": "royal-speaking",
   "metadata": {},
   "outputs": [
    {
     "data": {
      "text/plain": [
       "N              0\n",
       "P              0\n",
       "K              0\n",
       "temperature    0\n",
       "humidity       0\n",
       "ph             0\n",
       "rainfall       0\n",
       "label          0\n",
       "dtype: int64"
      ]
     },
     "execution_count": 5,
     "metadata": {},
     "output_type": "execute_result"
    }
   ],
   "source": [
    "# Lets find out if there is any null value in our dataset\n",
    "data.isnull().sum()"
   ]
  },
  {
   "cell_type": "markdown",
   "id": "colonial-morris",
   "metadata": {},
   "source": [
    "Here, we can see we do not have any null value in our dataset.\n",
    "If there had any null value we would have used Pandas functions such as fill-NA or drop-NA to treat missing values.<br>\n",
    "NA means Not Available.<br>\n",
    "Using fill-NA function we would replace the missing values with statistical values such as Mean, Median or Mode. These are called Measure of Central Tendency.\n",
    "- For numerical features we would we Mean to replace the null values.\n",
    "- For categorical features we would use Mode to replace the null values.\n",
    "- And if the feature contains large number of outliers we would use median."
   ]
  },
  {
   "cell_type": "code",
   "execution_count": 6,
   "id": "based-chester",
   "metadata": {},
   "outputs": [
    {
     "data": {
      "text/plain": [
       "blackgram      100\n",
       "maize          100\n",
       "grapes         100\n",
       "papaya         100\n",
       "lentil         100\n",
       "jute           100\n",
       "mungbean       100\n",
       "muskmelon      100\n",
       "coffee         100\n",
       "apple          100\n",
       "rice           100\n",
       "coconut        100\n",
       "kidneybeans    100\n",
       "cotton         100\n",
       "pigeonpeas     100\n",
       "pomegranate    100\n",
       "watermelon     100\n",
       "orange         100\n",
       "mango          100\n",
       "chickpea       100\n",
       "mothbeans      100\n",
       "banana         100\n",
       "Name: label, dtype: int64"
      ]
     },
     "execution_count": 6,
     "metadata": {},
     "output_type": "execute_result"
    }
   ],
   "source": [
    "# Lets find out the different type of crops in our dataset\n",
    "data['label'].value_counts()"
   ]
  },
  {
   "cell_type": "code",
   "execution_count": 7,
   "id": "wound-tucson",
   "metadata": {},
   "outputs": [
    {
     "data": {
      "text/html": [
       "<div>\n",
       "<style scoped>\n",
       "    .dataframe tbody tr th:only-of-type {\n",
       "        vertical-align: middle;\n",
       "    }\n",
       "\n",
       "    .dataframe tbody tr th {\n",
       "        vertical-align: top;\n",
       "    }\n",
       "\n",
       "    .dataframe thead th {\n",
       "        text-align: right;\n",
       "    }\n",
       "</style>\n",
       "<table border=\"1\" class=\"dataframe\">\n",
       "  <thead>\n",
       "    <tr style=\"text-align: right;\">\n",
       "      <th></th>\n",
       "      <th>N</th>\n",
       "      <th>P</th>\n",
       "      <th>K</th>\n",
       "      <th>temperature</th>\n",
       "      <th>humidity</th>\n",
       "      <th>ph</th>\n",
       "      <th>rainfall</th>\n",
       "    </tr>\n",
       "  </thead>\n",
       "  <tbody>\n",
       "    <tr>\n",
       "      <th>count</th>\n",
       "      <td>2200.000000</td>\n",
       "      <td>2200.000000</td>\n",
       "      <td>2200.000000</td>\n",
       "      <td>2200.000000</td>\n",
       "      <td>2200.000000</td>\n",
       "      <td>2200.000000</td>\n",
       "      <td>2200.000000</td>\n",
       "    </tr>\n",
       "    <tr>\n",
       "      <th>mean</th>\n",
       "      <td>50.551818</td>\n",
       "      <td>53.362727</td>\n",
       "      <td>48.149091</td>\n",
       "      <td>25.616244</td>\n",
       "      <td>71.481779</td>\n",
       "      <td>6.469480</td>\n",
       "      <td>103.463655</td>\n",
       "    </tr>\n",
       "    <tr>\n",
       "      <th>std</th>\n",
       "      <td>36.917334</td>\n",
       "      <td>32.985883</td>\n",
       "      <td>50.647931</td>\n",
       "      <td>5.063749</td>\n",
       "      <td>22.263812</td>\n",
       "      <td>0.773938</td>\n",
       "      <td>54.958389</td>\n",
       "    </tr>\n",
       "    <tr>\n",
       "      <th>min</th>\n",
       "      <td>0.000000</td>\n",
       "      <td>5.000000</td>\n",
       "      <td>5.000000</td>\n",
       "      <td>8.825675</td>\n",
       "      <td>14.258040</td>\n",
       "      <td>3.504752</td>\n",
       "      <td>20.211267</td>\n",
       "    </tr>\n",
       "    <tr>\n",
       "      <th>25%</th>\n",
       "      <td>21.000000</td>\n",
       "      <td>28.000000</td>\n",
       "      <td>20.000000</td>\n",
       "      <td>22.769375</td>\n",
       "      <td>60.261953</td>\n",
       "      <td>5.971693</td>\n",
       "      <td>64.551686</td>\n",
       "    </tr>\n",
       "    <tr>\n",
       "      <th>50%</th>\n",
       "      <td>37.000000</td>\n",
       "      <td>51.000000</td>\n",
       "      <td>32.000000</td>\n",
       "      <td>25.598693</td>\n",
       "      <td>80.473146</td>\n",
       "      <td>6.425045</td>\n",
       "      <td>94.867624</td>\n",
       "    </tr>\n",
       "    <tr>\n",
       "      <th>75%</th>\n",
       "      <td>84.250000</td>\n",
       "      <td>68.000000</td>\n",
       "      <td>49.000000</td>\n",
       "      <td>28.561654</td>\n",
       "      <td>89.948771</td>\n",
       "      <td>6.923643</td>\n",
       "      <td>124.267508</td>\n",
       "    </tr>\n",
       "    <tr>\n",
       "      <th>max</th>\n",
       "      <td>140.000000</td>\n",
       "      <td>145.000000</td>\n",
       "      <td>205.000000</td>\n",
       "      <td>43.675493</td>\n",
       "      <td>99.981876</td>\n",
       "      <td>9.935091</td>\n",
       "      <td>298.560117</td>\n",
       "    </tr>\n",
       "  </tbody>\n",
       "</table>\n",
       "</div>"
      ],
      "text/plain": [
       "                 N            P            K  temperature     humidity  \\\n",
       "count  2200.000000  2200.000000  2200.000000  2200.000000  2200.000000   \n",
       "mean     50.551818    53.362727    48.149091    25.616244    71.481779   \n",
       "std      36.917334    32.985883    50.647931     5.063749    22.263812   \n",
       "min       0.000000     5.000000     5.000000     8.825675    14.258040   \n",
       "25%      21.000000    28.000000    20.000000    22.769375    60.261953   \n",
       "50%      37.000000    51.000000    32.000000    25.598693    80.473146   \n",
       "75%      84.250000    68.000000    49.000000    28.561654    89.948771   \n",
       "max     140.000000   145.000000   205.000000    43.675493    99.981876   \n",
       "\n",
       "                ph     rainfall  \n",
       "count  2200.000000  2200.000000  \n",
       "mean      6.469480   103.463655  \n",
       "std       0.773938    54.958389  \n",
       "min       3.504752    20.211267  \n",
       "25%       5.971693    64.551686  \n",
       "50%       6.425045    94.867624  \n",
       "75%       6.923643   124.267508  \n",
       "max       9.935091   298.560117  "
      ]
     },
     "execution_count": 7,
     "metadata": {},
     "output_type": "execute_result"
    }
   ],
   "source": [
    "# Lets find some statistical details of the dataset\n",
    "data.describe()"
   ]
  },
  {
   "cell_type": "code",
   "execution_count": 8,
   "id": "urban-mistress",
   "metadata": {},
   "outputs": [
    {
     "name": "stdout",
     "output_type": "stream",
     "text": [
      "Average Ratio of Nitrogen in the soil: 50.55\n",
      "Average Ratio of Phosphorus in the soil: 53.36\n",
      "Average Ratio of Potassium in the soil: 48.15\n",
      "Average Temperature in celcius: 25.62\n",
      "Average Relative Humidity in %: 71.48\n",
      "Average PH value of the soil: 6.47\n",
      "Average Rainfall in mm: 103.46\n"
     ]
    }
   ],
   "source": [
    "# So from this we can see the details of soil and climate for all type of crops\n",
    "# Let's have a look at the mean\n",
    "print(\"Average Ratio of Nitrogen in the soil: {0:.2f}\".format(data['N'].mean()))\n",
    "print(\"Average Ratio of Phosphorus in the soil: {0:.2f}\".format(data['P'].mean()))\n",
    "print(\"Average Ratio of Potassium in the soil: {0:.2f}\".format(data['K'].mean()))\n",
    "print(\"Average Temperature in celcius: {0:.2f}\".format(data['temperature'].mean()))\n",
    "print(\"Average Relative Humidity in %: {0:.2f}\".format(data['humidity'].mean()))\n",
    "print(\"Average PH value of the soil: {0:.2f}\".format(data['ph'].mean()))\n",
    "print(\"Average Rainfall in mm: {0:.2f}\".format(data['rainfall'].mean()))"
   ]
  },
  {
   "cell_type": "markdown",
   "id": "central-rolling",
   "metadata": {},
   "source": [
    "From the details above we can form the following hypothesis:\n",
    "- The distribution of Nitrogen, Phosphorus and Potassium in the soil should be around 50%\n",
    "- The average temperature should be around 25 degrees Celcius.\n",
    "- Humidity should be around 70%.\n",
    "- PH value of the soil should be around 7.\n",
    "- Rainfall required on a average is around 100 mm."
   ]
  },
  {
   "cell_type": "code",
   "execution_count": 9,
   "id": "minimal-movie",
   "metadata": {},
   "outputs": [
    {
     "data": {
      "application/vnd.jupyter.widget-view+json": {
       "model_id": "d053aeb02a834a99bd3494d7a097c24b",
       "version_major": 2,
       "version_minor": 0
      },
      "text/plain": [
       "interactive(children=(Dropdown(description='crop', options=('blackgram', 'maize', 'grapes', 'papaya', 'lentil'…"
      ]
     },
     "metadata": {},
     "output_type": "display_data"
    }
   ],
   "source": [
    "# Now lets check the summary statistics for each of the crop\n",
    "# This function would print the summary for a given crop\n",
    "@interact\n",
    "def summary(crop = list(data['label'].value_counts().index)):\n",
    "    print(f'Statistics for {crop}:\\n')\n",
    "    conditions = list(data.columns)[:-1]\n",
    "    renamed_conditions = ['Nitrogen', 'Phosphorus', 'Potassium', 'Temperature', 'Humidity', 'PH', 'Rainfall']\n",
    "    crop_df = data[data['label'] == crop]\n",
    "    for renamed_condition, condition in zip(renamed_conditions, conditions):\n",
    "        print(f'Statistics of {renamed_condition}:')\n",
    "        print(f'Minimum {renamed_condition} required : ', crop_df[condition].min())\n",
    "        print(f'Average {renamed_condition} required : ', crop_df[condition].mean())\n",
    "        print(f'Maximum {renamed_condition} required : ', crop_df[condition].max())\n",
    "        print()\n",
    "    print()"
   ]
  },
  {
   "cell_type": "code",
   "execution_count": 10,
   "id": "brief-neighbor",
   "metadata": {},
   "outputs": [
    {
     "name": "stdout",
     "output_type": "stream",
     "text": [
      "['blackgram', 'maize', 'grapes', 'papaya', 'lentil', 'jute', 'mungbean', 'muskmelon', 'coffee', 'apple', 'rice', 'coconut', 'kidneybeans', 'cotton', 'pigeonpeas', 'pomegranate', 'watermelon', 'orange', 'mango', 'chickpea', 'mothbeans', 'banana']\n"
     ]
    }
   ],
   "source": [
    "# The different types of crop that we have are: \n",
    "crops = list(data['label'].value_counts().index)\n",
    "print(crops)"
   ]
  },
  {
   "cell_type": "code",
   "execution_count": 11,
   "id": "awful-mechanics",
   "metadata": {},
   "outputs": [
    {
     "name": "stdout",
     "output_type": "stream",
     "text": [
      "Statistics for mango:\n",
      "\n",
      "Statistics of Nitrogen:\n",
      "Minimum Nitrogen required :  0\n",
      "Average Nitrogen required :  20.07\n",
      "Maximum Nitrogen required :  40\n",
      "\n",
      "Statistics of Phosphorus:\n",
      "Minimum Phosphorus required :  15\n",
      "Average Phosphorus required :  27.18\n",
      "Maximum Phosphorus required :  40\n",
      "\n",
      "Statistics of Potassium:\n",
      "Minimum Potassium required :  25\n",
      "Average Potassium required :  29.92\n",
      "Maximum Potassium required :  35\n",
      "\n",
      "Statistics of Temperature:\n",
      "Minimum Temperature required :  27.00315545\n",
      "Average Temperature required :  31.2087701513\n",
      "Maximum Temperature required :  35.99009679\n",
      "\n",
      "Statistics of Humidity:\n",
      "Minimum Humidity required :  45.02236377\n",
      "Average Humidity required :  50.1565726953\n",
      "Maximum Humidity required :  54.9640534\n",
      "\n",
      "Statistics of PH:\n",
      "Minimum PH required :  4.507523551\n",
      "Average PH required :  5.766372799659999\n",
      "Maximum PH required :  6.9674177660000005\n",
      "\n",
      "Statistics of Rainfall:\n",
      "Minimum Rainfall required :  89.29147581\n",
      "Average Rainfall required :  94.70451504479999\n",
      "Maximum Rainfall required :  100.8124659\n",
      "\n",
      "\n"
     ]
    }
   ],
   "source": [
    "# Lets check the summary for mango\n",
    "summary('mango')"
   ]
  },
  {
   "cell_type": "markdown",
   "id": "veterinary-passenger",
   "metadata": {},
   "source": [
    "So from this detailed summary of soil and climate requirements of mango we can find that the temperature requirement of mango is high which clearly suggest that mango is a summer crop which is really true as we know we get mangoes in the summer."
   ]
  },
  {
   "cell_type": "code",
   "execution_count": 12,
   "id": "retained-ballot",
   "metadata": {},
   "outputs": [
    {
     "name": "stdout",
     "output_type": "stream",
     "text": [
      "Statistics for rice:\n",
      "\n",
      "Statistics of Nitrogen:\n",
      "Minimum Nitrogen required :  60\n",
      "Average Nitrogen required :  79.89\n",
      "Maximum Nitrogen required :  99\n",
      "\n",
      "Statistics of Phosphorus:\n",
      "Minimum Phosphorus required :  35\n",
      "Average Phosphorus required :  47.58\n",
      "Maximum Phosphorus required :  60\n",
      "\n",
      "Statistics of Potassium:\n",
      "Minimum Potassium required :  35\n",
      "Average Potassium required :  39.87\n",
      "Maximum Potassium required :  45\n",
      "\n",
      "Statistics of Temperature:\n",
      "Minimum Temperature required :  20.0454142\n",
      "Average Temperature required :  23.6893322105\n",
      "Maximum Temperature required :  26.92995077\n",
      "\n",
      "Statistics of Humidity:\n",
      "Minimum Humidity required :  80.12267476\n",
      "Average Humidity required :  82.27282153889999\n",
      "Maximum Humidity required :  84.96907151\n",
      "\n",
      "Statistics of PH:\n",
      "Minimum PH required :  5.005306977\n",
      "Average PH required :  6.425470922139999\n",
      "Maximum PH required :  7.868474653\n",
      "\n",
      "Statistics of Rainfall:\n",
      "Minimum Rainfall required :  182.5616319\n",
      "Average Rainfall required :  236.18111359399998\n",
      "Maximum Rainfall required :  298.5601175\n",
      "\n",
      "\n"
     ]
    }
   ],
   "source": [
    "# Now lets check the details of soil and climatic conditions required by rice\n",
    "summary('rice')"
   ]
  },
  {
   "cell_type": "markdown",
   "id": "adolescent-philadelphia",
   "metadata": {},
   "source": [
    "For Rice, we can see the Rainfall requirement is very high which is true. So with the help of the summary function we can explore many such interesting patterns in our data."
   ]
  },
  {
   "cell_type": "code",
   "execution_count": 13,
   "id": "absolute-mouth",
   "metadata": {},
   "outputs": [
    {
     "data": {
      "application/vnd.jupyter.widget-view+json": {
       "model_id": "48cc8584837d484a9e7b08bcf8812c2b",
       "version_major": 2,
       "version_minor": 0
      },
      "text/plain": [
       "interactive(children=(Dropdown(description='condition', options=('N', 'P', 'K', 'temperature', 'humidity', 'ph…"
      ]
     },
     "metadata": {},
     "output_type": "display_data"
    }
   ],
   "source": [
    "# Lets compare the Average Requirements for each crop with average conditions\n",
    "# This function would print the average condition and the average condition w.r.t each crop\n",
    "\n",
    "@interact\n",
    "def average_condition(condition = list(data.columns)[:-1]):\n",
    "    print(f'Average value for {condition} is {data[condition].mean()}')\n",
    "    print('----------------------------------------------------------')\n",
    "    crops = list(data['label'].value_counts().index)\n",
    "    for crop in crops:\n",
    "        print(f\"For {crop} : {data[data['label']==crop][condition].mean()}\")"
   ]
  },
  {
   "cell_type": "code",
   "execution_count": 14,
   "id": "hindu-cricket",
   "metadata": {},
   "outputs": [
    {
     "data": {
      "text/plain": [
       "['N', 'P', 'K', 'temperature', 'humidity', 'ph', 'rainfall']"
      ]
     },
     "execution_count": 14,
     "metadata": {},
     "output_type": "execute_result"
    }
   ],
   "source": [
    "# The different conditions that we have are: \n",
    "conditions = list(data.columns)[:-1]\n",
    "conditions"
   ]
  },
  {
   "cell_type": "code",
   "execution_count": 15,
   "id": "capital-worthy",
   "metadata": {},
   "outputs": [
    {
     "name": "stdout",
     "output_type": "stream",
     "text": [
      "Average value for rainfall is 103.46365541576817\n",
      "----------------------------------------------------------\n",
      "For blackgram : 67.88415118319999\n",
      "For maize : 84.766987663\n",
      "For grapes : 69.611828886\n",
      "For papaya : 142.6278388629\n",
      "For lentil : 45.680454204\n",
      "For jute : 174.792797536\n",
      "For mungbean : 48.403600902899996\n",
      "For muskmelon : 24.689952066\n",
      "For coffee : 158.066294882\n",
      "For apple : 112.654779275\n",
      "For rice : 236.18111359399998\n",
      "For coconut : 175.68664580399997\n",
      "For kidneybeans : 105.91977754210002\n",
      "For cotton : 80.3980431193\n",
      "For pigeonpeas : 149.4575638135\n",
      "For pomegranate : 107.52844239699999\n",
      "For watermelon : 50.7862189449\n",
      "For orange : 110.47496871999999\n",
      "For mango : 94.70451504479999\n",
      "For chickpea : 80.0589772605\n",
      "For mothbeans : 51.198487045700006\n",
      "For banana : 104.62698040009998\n"
     ]
    }
   ],
   "source": [
    "# Lets check the average rainfall requirements of each crop\n",
    "average_condition('rainfall')"
   ]
  },
  {
   "cell_type": "markdown",
   "id": "inclusive-warner",
   "metadata": {},
   "source": [
    "From the above rainfall requirements we notice the following trend :\n",
    "- There are crops that require average rainfall greater than 100 mm.\n",
    "- Those are: jute, banana, papaya, coffee, pomegranate, coconut, kidneybeans, rice, orange, pigeonpeas, apple. \n",
    "- Rice requires maximum ranifall among these crops.\n",
    "- Muskmelon requires least rainfall i.e around 24 mm."
   ]
  },
  {
   "cell_type": "code",
   "execution_count": 16,
   "id": "distant-honduras",
   "metadata": {},
   "outputs": [],
   "source": [
    "# Lets find out crops that require condtions less than the average\n",
    "# This function would print crops those have condition requirement\n",
    "# less than the overall average and greater than the overall average.\n",
    "\n",
    "def compare_with_average(condition):\n",
    "    print(f\"Crops which require greater than average {condition} : \")\n",
    "    print(f\"{data[data[condition] > data[condition].mean()]['label'].unique()}\")\n",
    "    print('-------------------------------------------------------------------')\n",
    "    print(f\"Crops which require leass than average {condition} : \")\n",
    "    print(f\"{data[data[condition] < data[condition].mean()]['label'].unique()}\")"
   ]
  },
  {
   "cell_type": "code",
   "execution_count": 17,
   "id": "informed-apparatus",
   "metadata": {},
   "outputs": [
    {
     "data": {
      "text/plain": [
       "['N', 'P', 'K', 'temperature', 'humidity', 'ph', 'rainfall']"
      ]
     },
     "execution_count": 17,
     "metadata": {},
     "output_type": "execute_result"
    }
   ],
   "source": [
    "conditions = list(data.columns)[:-1]\n",
    "conditions"
   ]
  },
  {
   "cell_type": "code",
   "execution_count": 18,
   "id": "loose-jackson",
   "metadata": {},
   "outputs": [
    {
     "name": "stdout",
     "output_type": "stream",
     "text": [
      "Crops which require greater than average N : \n",
      "['rice' 'maize' 'chickpea' 'blackgram' 'banana' 'watermelon' 'muskmelon'\n",
      " 'papaya' 'cotton' 'jute' 'coffee']\n",
      "-------------------------------------------------------------------\n",
      "Crops which require leass than average N : \n",
      "['chickpea' 'kidneybeans' 'pigeonpeas' 'mothbeans' 'mungbean' 'blackgram'\n",
      " 'lentil' 'pomegranate' 'mango' 'grapes' 'apple' 'orange' 'papaya'\n",
      " 'coconut']\n"
     ]
    }
   ],
   "source": [
    "# Lets check Nitrogen requirements of the crops\n",
    "compare_with_average('N')"
   ]
  },
  {
   "cell_type": "markdown",
   "id": "theoretical-blind",
   "metadata": {},
   "source": [
    "From here we find the crops those can be grown in below average Nitrogen availability and those which require above average Nitrogen availability."
   ]
  },
  {
   "cell_type": "code",
   "execution_count": 19,
   "id": "normal-legend",
   "metadata": {},
   "outputs": [
    {
     "name": "stdout",
     "output_type": "stream",
     "text": [
      "['N', 'P', 'K', 'temperature', 'humidity', 'ph', 'rainfall']\n"
     ]
    }
   ],
   "source": [
    "conditions = list(data.columns)[:-1]\n",
    "print(conditions)"
   ]
  },
  {
   "cell_type": "code",
   "execution_count": 20,
   "id": "recent-diana",
   "metadata": {},
   "outputs": [],
   "source": [
    "renamed_conditions = ['Ratio of Nitrogen', 'Ratio of Phosphorus', 'Ration of Potassium', 'Temperature', 'Humidity', 'PH Level', 'Rainfall']\n",
    "colors = ['orange', 'lightblue', 'lightgreen', 'purple', 'darkgrey', 'darkgreen', 'black']"
   ]
  },
  {
   "cell_type": "code",
   "execution_count": 23,
   "id": "gorgeous-picnic",
   "metadata": {},
   "outputs": [
    {
     "data": {
      "image/png": "[encoded data removed]",
      "text/plain": [
       "<Figure size 720x360 with 7 Axes>"
      ]
     },
     "metadata": {
      "needs_background": "light"
     },
     "output_type": "display_data"
    }
   ],
   "source": [
    "import warnings\n",
    "warnings.filterwarnings(\"ignore\")\n",
    "\n",
    "plt.figure(figsize=(10,5), tight_layout=True)\n",
    "plt.suptitle('Distribution for Agricultural Conditions', fontsize=20)\n",
    "\n",
    "for i, condition in enumerate(conditions):\n",
    "    plt.subplot(2, 4, i+1)\n",
    "    sns.distplot(data[condition], color=colors[i])\n",
    "    plt.xlabel(renamed_conditions[i], fontsize=12)\n"
   ]
  },
  {
   "cell_type": "markdown",
   "id": "reasonable-sarah",
   "metadata": {},
   "source": [
    "From the distribution above we can say that:\n",
    "- There are few crops which require Phosphorus and Potassium in large ratio as their distribution graph shows they are right skewed.\n",
    "- The distributions of Tempererature and PH Level follow the Gaussian Distribution so we can say most of the crops require average Temperature and PH Level."
   ]
  },
  {
   "cell_type": "code",
   "execution_count": 26,
   "id": "unknown-ending",
   "metadata": {},
   "outputs": [
    {
     "data": {
      "text/html": [
       "<div>\n",
       "<style scoped>\n",
       "    .dataframe tbody tr th:only-of-type {\n",
       "        vertical-align: middle;\n",
       "    }\n",
       "\n",
       "    .dataframe tbody tr th {\n",
       "        vertical-align: top;\n",
       "    }\n",
       "\n",
       "    .dataframe thead th {\n",
       "        text-align: right;\n",
       "    }\n",
       "</style>\n",
       "<table border=\"1\" class=\"dataframe\">\n",
       "  <thead>\n",
       "    <tr style=\"text-align: right;\">\n",
       "      <th></th>\n",
       "      <th>N</th>\n",
       "      <th>P</th>\n",
       "      <th>K</th>\n",
       "      <th>temperature</th>\n",
       "      <th>humidity</th>\n",
       "      <th>ph</th>\n",
       "      <th>rainfall</th>\n",
       "    </tr>\n",
       "  </thead>\n",
       "  <tbody>\n",
       "    <tr>\n",
       "      <th>count</th>\n",
       "      <td>2200.000000</td>\n",
       "      <td>2200.000000</td>\n",
       "      <td>2200.000000</td>\n",
       "      <td>2200.000000</td>\n",
       "      <td>2200.000000</td>\n",
       "      <td>2200.000000</td>\n",
       "      <td>2200.000000</td>\n",
       "    </tr>\n",
       "    <tr>\n",
       "      <th>mean</th>\n",
       "      <td>50.551818</td>\n",
       "      <td>53.362727</td>\n",
       "      <td>48.149091</td>\n",
       "      <td>25.616244</td>\n",
       "      <td>71.481779</td>\n",
       "      <td>6.469480</td>\n",
       "      <td>103.463655</td>\n",
       "    </tr>\n",
       "    <tr>\n",
       "      <th>std</th>\n",
       "      <td>36.917334</td>\n",
       "      <td>32.985883</td>\n",
       "      <td>50.647931</td>\n",
       "      <td>5.063749</td>\n",
       "      <td>22.263812</td>\n",
       "      <td>0.773938</td>\n",
       "      <td>54.958389</td>\n",
       "    </tr>\n",
       "    <tr>\n",
       "      <th>min</th>\n",
       "      <td>0.000000</td>\n",
       "      <td>5.000000</td>\n",
       "      <td>5.000000</td>\n",
       "      <td>8.825675</td>\n",
       "      <td>14.258040</td>\n",
       "      <td>3.504752</td>\n",
       "      <td>20.211267</td>\n",
       "    </tr>\n",
       "    <tr>\n",
       "      <th>25%</th>\n",
       "      <td>21.000000</td>\n",
       "      <td>28.000000</td>\n",
       "      <td>20.000000</td>\n",
       "      <td>22.769375</td>\n",
       "      <td>60.261953</td>\n",
       "      <td>5.971693</td>\n",
       "      <td>64.551686</td>\n",
       "    </tr>\n",
       "    <tr>\n",
       "      <th>50%</th>\n",
       "      <td>37.000000</td>\n",
       "      <td>51.000000</td>\n",
       "      <td>32.000000</td>\n",
       "      <td>25.598693</td>\n",
       "      <td>80.473146</td>\n",
       "      <td>6.425045</td>\n",
       "      <td>94.867624</td>\n",
       "    </tr>\n",
       "    <tr>\n",
       "      <th>75%</th>\n",
       "      <td>84.250000</td>\n",
       "      <td>68.000000</td>\n",
       "      <td>49.000000</td>\n",
       "      <td>28.561654</td>\n",
       "      <td>89.948771</td>\n",
       "      <td>6.923643</td>\n",
       "      <td>124.267508</td>\n",
       "    </tr>\n",
       "    <tr>\n",
       "      <th>max</th>\n",
       "      <td>140.000000</td>\n",
       "      <td>145.000000</td>\n",
       "      <td>205.000000</td>\n",
       "      <td>43.675493</td>\n",
       "      <td>99.981876</td>\n",
       "      <td>9.935091</td>\n",
       "      <td>298.560117</td>\n",
       "    </tr>\n",
       "  </tbody>\n",
       "</table>\n",
       "</div>"
      ],
      "text/plain": [
       "                 N            P            K  temperature     humidity  \\\n",
       "count  2200.000000  2200.000000  2200.000000  2200.000000  2200.000000   \n",
       "mean     50.551818    53.362727    48.149091    25.616244    71.481779   \n",
       "std      36.917334    32.985883    50.647931     5.063749    22.263812   \n",
       "min       0.000000     5.000000     5.000000     8.825675    14.258040   \n",
       "25%      21.000000    28.000000    20.000000    22.769375    60.261953   \n",
       "50%      37.000000    51.000000    32.000000    25.598693    80.473146   \n",
       "75%      84.250000    68.000000    49.000000    28.561654    89.948771   \n",
       "max     140.000000   145.000000   205.000000    43.675493    99.981876   \n",
       "\n",
       "                ph     rainfall  \n",
       "count  2200.000000  2200.000000  \n",
       "mean      6.469480   103.463655  \n",
       "std       0.773938    54.958389  \n",
       "min       3.504752    20.211267  \n",
       "25%       5.971693    64.551686  \n",
       "50%       6.425045    94.867624  \n",
       "75%       6.923643   124.267508  \n",
       "max       9.935091   298.560117  "
      ]
     },
     "execution_count": 26,
     "metadata": {},
     "output_type": "execute_result"
    }
   ],
   "source": [
    "# Lets find some more interesting facts\n",
    "\n",
    "data.describe()"
   ]
  },
  {
   "cell_type": "code",
   "execution_count": 59,
   "id": "characteristic-plain",
   "metadata": {},
   "outputs": [
    {
     "data": {
      "application/vnd.jupyter.widget-view+json": {
       "model_id": "0a0a9a67498e4c23b15dcf0e33ad860f",
       "version_major": 2,
       "version_minor": 0
      },
      "text/plain": [
       "interactive(children=(Dropdown(description='condition', options=('N', 'P', 'K', 'temperature', 'humidity', 'ph…"
      ]
     },
     "metadata": {},
     "output_type": "display_data"
    }
   ],
   "source": [
    "@interact\n",
    "def max_condition_requirements(condition=conditions):\n",
    "    if(condition=='N' or condition=='P' or condition=='K'):\n",
    "        print(f\"Crop which require very High {renamed_conditions[conditions.index(condition)]} in the soil:\\\n",
    "        {data[data[condition]==data[condition].max()]['label'].unique()[0]}\")\n",
    "    else:\n",
    "        print(f\"Crop which require very High {renamed_conditions[conditions.index(condition)]}:\\\n",
    "              {data[data[condition]==data[condition].max()]['label'].unique()[0]}\")\n",
    "        print(f\"Crops which require very Low {renamed_conditions[conditions.index(condition)]}:\\\n",
    "              {data[data[condition]==data[condition].min()]['label'].unique()[0]}\")"
   ]
  },
  {
   "cell_type": "markdown",
   "id": "elementary-funeral",
   "metadata": {},
   "source": [
    "From the above findings we can say:\n",
    "- Cotton requires the highest ratio of Nitrogen in the soil for growth.\n",
    "- Grapes require the highest ratio of Phosphorus as well as Potassium in the soil for its growth.\n",
    "- Papaya requires the highest temperature and grapes requires the lowest temperature conditions.\n",
    "- Coconut requires highest humidity in the soil whereas chickpea requires the least humidity in the soil.\n",
    "- Mothbeans can be grown in soil having very high PH value as well as very low PH value.\n",
    "- Rice requires the highest amount of rainfall whereas muskmelon requires least amount of rainfall."
   ]
  },
  {
   "cell_type": "code",
   "execution_count": 61,
   "id": "sophisticated-bristol",
   "metadata": {},
   "outputs": [
    {
     "name": "stdout",
     "output_type": "stream",
     "text": [
      "Summer Crops: \n",
      "['pigeonpeas' 'mothbeans' 'blackgram' 'mango' 'grapes' 'orange' 'papaya']\n",
      "---------------------------------------------------------------------------\n",
      "Winter Crops: \n",
      "['maize' 'pigeonpeas' 'lentil' 'pomegranate' 'grapes' 'orange']\n",
      "---------------------------------------------------------------------------\n",
      "Rainy Crops: \n",
      "['rice' 'papaya' 'coconut']\n"
     ]
    }
   ],
   "source": [
    "# Now lets find out which crop can be grown only in summer season,\n",
    "# only in winter season and only in rainy season:\n",
    "\n",
    "print(\"Summer Crops: \")\n",
    "print(data[(data['temperature'] > 30) & (data['humidity'] > 50)]['label'].unique())\n",
    "print(\"---------------------------------------------------------------------------\")\n",
    "print(\"Winter Crops: \")\n",
    "print(data[(data['temperature'] < 20) & (data['humidity'] > 30)]['label'].unique())\n",
    "print(\"---------------------------------------------------------------------------\")\n",
    "print(\"Rainy Crops: \")\n",
    "print(data[(data['rainfall'] > 200) & (data['humidity'] > 30)]['label'].unique())\n"
   ]
  },
  {
   "cell_type": "markdown",
   "id": "reasonable-premises",
   "metadata": {},
   "source": [
    "Above findings tell us that:\n",
    "- Pigeonpeas, mothbeans, blackgram, mango, grapes, orange and papaya are best to be grown in summer season.\n",
    "- For winter season the best crops are maize, pigeonpeas, lentil, pomegranate, grapes and orange.\n",
    "- Rice, papaya and coconut would be best for rainy season."
   ]
  },
  {
   "cell_type": "code",
   "execution_count": 62,
   "id": "streaming-biotechnology",
   "metadata": {},
   "outputs": [],
   "source": [
    "# Now lets move on to build our model\n",
    "# For this purpose we would use K-means clustering algorithm which belongs\n",
    "# to the unsupervised machine learning algorithms.\n",
    "# This would form clusters of crops those which requires same type of soil and\n",
    "# climatic conditions.\n",
    "# So first of all lets import the KMeans class from the scikit-learn library\n",
    "# which performs the K-means clustering.\n",
    "\n",
    "from sklearn.cluster import KMeans"
   ]
  },
  {
   "cell_type": "code",
   "execution_count": 65,
   "id": "complimentary-polish",
   "metadata": {},
   "outputs": [],
   "source": [
    "# we do not need the labels for this algorithm to work so lets drop the labels\n",
    "x = data.drop(['label'], axis=1)\n",
    "\n",
    "# selecting all the values of the data\n",
    "x = x.values"
   ]
  },
  {
   "cell_type": "code",
   "execution_count": 66,
   "id": "smaller-importance",
   "metadata": {},
   "outputs": [
    {
     "data": {
      "text/plain": [
       "(2200, 7)"
      ]
     },
     "execution_count": 66,
     "metadata": {},
     "output_type": "execute_result"
    }
   ],
   "source": [
    "# checking the shape of our data\n",
    "x.shape"
   ]
  },
  {
   "cell_type": "markdown",
   "id": "mexican-constitutional",
   "metadata": {},
   "source": [
    "To perform clustering analysis first of all we need to know\n",
    "how many clusters should be there in our dataset.<br>\n",
    "And to find out how many clusters should be there in our dataset\n",
    "we are going to use the Elbow Method.<br>\n",
    "## The Elbow Method\n",
    "- The method consists of plotting the explained variation as a function of the number of clusters and picking the elbow of the curve as the number of clusters to use.\n",
    "- The intuition is that increasing the number of clusters will naturally improve the fit (explain more of the variation), since there are more parameters (more clusters) to use, but that at some point this is over-fitting, and the elbow reflects this.\n",
    "- For example, given data that actually consist of k labeled groups – for example, k points sampled with noise – clustering with more than k clusters will \"explain\" more of the variation (since it can use smaller, tighter clusters), but this is over-fitting, since it is subdividing the labeled groups into multiple clusters.\n",
    "- The idea is that the first clusters will add much information (explain a lot of variation), since the data actually consist of that many groups (so these clusters are necessary), but once the number of clusters exceeds the actual number of groups in the data, the added information will drop sharply, because it is just subdividing the actual groups. \n",
    "- Assuming this happens, there will be a sharp elbow in the graph of explained variation versus clusters: increasing rapidly up to k (under-fitting region), and then increasing slowly after k (over-fitting region).\n",
    "\n",
    "Source: https://en.wikipedia.org/wiki/Elbow_method_(clustering)\n"
   ]
  },
  {
   "cell_type": "code",
   "execution_count": 67,
   "id": "interstate-suite",
   "metadata": {},
   "outputs": [
    {
     "data": {
      "image/png": "[encoded data removed]",
      "text/plain": [
       "<Figure size 720x288 with 1 Axes>"
      ]
     },
     "metadata": {
      "needs_background": "light"
     },
     "output_type": "display_data"
    }
   ],
   "source": [
    "# So, now lets determine the optimal number of clusters within our dataset\n",
    "\n",
    "plt.rcParams['figure.figsize'] = (10, 4)\n",
    "\n",
    "wcss = []\n",
    "for i in range(1, 11):\n",
    "    km = KMeans(n_clusters=i, init='k-means++', max_iter=300, n_init=10, random_state=0)\n",
    "    km.fit(x)\n",
    "    wcss.append(km.inertia_)\n",
    "    \n",
    "# Lets plot the results\n",
    "plt.plot(range(1, 11), wcss)\n",
    "plt.title('The Elbow Method', fontsize=20)\n",
    "plt.xlabel('No. of clusters')\n",
    "plt.ylabel('wcss')\n",
    "plt.show()"
   ]
  },
  {
   "cell_type": "markdown",
   "id": "super-classic",
   "metadata": {},
   "source": [
    "From the plot we find there are three elbows at 2, 3 and 4,\n",
    "we are going the use the max of them i.e. 4"
   ]
  },
  {
   "cell_type": "code",
   "execution_count": 68,
   "id": "wooden-costa",
   "metadata": {},
   "outputs": [
    {
     "name": "stdout",
     "output_type": "stream",
     "text": [
      "Lets check the Results After applying the K Means Clustering Analysis \n",
      "\n",
      "Crops in first cluster:  ['grapes' 'apple']\n",
      "---------------------------------------------------------------\n",
      "Crops in second cluster:  ['maize' 'banana' 'watermelon' 'muskmelon' 'papaya' 'cotton' 'coffee']\n",
      "---------------------------------------------------------------\n",
      "Crops in third cluster:  ['rice' 'pigeonpeas' 'papaya' 'coconut' 'jute' 'coffee']\n",
      "---------------------------------------------------------------\n",
      "Crops in fourth cluster:  ['maize' 'chickpea' 'kidneybeans' 'pigeonpeas' 'mothbeans' 'mungbean'\n",
      " 'blackgram' 'lentil' 'pomegranate' 'mango' 'orange' 'papaya' 'coconut']\n"
     ]
    }
   ],
   "source": [
    "# Lets implement the K Means algorithm to perform clustering analysis\n",
    "km = KMeans(n_clusters=4, init='k-means++', max_iter=300, n_init=10, random_state=0)\n",
    "y_means = km.fit_predict(x)\n",
    "\n",
    "# Lets find out the results\n",
    "a = data['label']\n",
    "y_means = pd.DataFrame(y_means)\n",
    "z = pd.concat([y_means, a], axis=1)\n",
    "z = z.rename(columns={0: 'cluster'})\n",
    "\n",
    "# Lets check the clusters of each Crop\n",
    "print(\"Lets check the Results After applying the K Means Clustering Analysis \\n\")\n",
    "print(\"Crops in first cluster: \", z[z['cluster']==0]['label'].unique())\n",
    "print(\"---------------------------------------------------------------\")\n",
    "print(\"Crops in second cluster: \", z[z['cluster']==1]['label'].unique())\n",
    "print(\"---------------------------------------------------------------\")\n",
    "print(\"Crops in third cluster: \", z[z['cluster']==2]['label'].unique())\n",
    "print(\"---------------------------------------------------------------\")\n",
    "print(\"Crops in fourth cluster: \", z[z['cluster']==3]['label'].unique())\n",
    "\n",
    "\n"
   ]
  },
  {
   "cell_type": "markdown",
   "id": "romantic-glory",
   "metadata": {},
   "source": [
    "These are the different clusters of the crops. The crops in same cluster require same kind of soil and climatic conditions and the crops of one cluster differ a lot from the crops of other cluster"
   ]
  },
  {
   "cell_type": "markdown",
   "id": "gothic-return",
   "metadata": {},
   "source": [
    "Now we are going to build a Predictive model to predict which crop is best suitable for the given soil and climatic conditions. We know we have 22 classes in our labels so the best algorithm for this case would be to use Logistic Regression Model. Logistic regression is a classification algorithm used to assign observations to a discrete set of classes. Logistic regression transforms its output using the logistic sigmoid function to return a probability value which can then be mapped to discrete classes."
   ]
  },
  {
   "cell_type": "code",
   "execution_count": 69,
   "id": "annual-cheese",
   "metadata": {},
   "outputs": [
    {
     "name": "stdout",
     "output_type": "stream",
     "text": [
      "Shape of x:  (2200, 7)\n",
      "Shape of y:  (2200,)\n"
     ]
    }
   ],
   "source": [
    "# Lets split the dataset for Predictive Modelling\n",
    "# Separate the features and label\n",
    "y = data['label']\n",
    "x = data.drop('label', axis=1)\n",
    "\n",
    "print(\"Shape of x: \", x.shape)\n",
    "print(\"Shape of y: \", y.shape)"
   ]
  },
  {
   "cell_type": "code",
   "execution_count": 73,
   "id": "prepared-accident",
   "metadata": {},
   "outputs": [
    {
     "name": "stdout",
     "output_type": "stream",
     "text": [
      "Shape of x train:  (1760, 7)\n",
      "Shape of x test:  (440, 7)\n",
      "Shape of y train:  (1760,)\n",
      "Shape of y test:  (440,)\n"
     ]
    }
   ],
   "source": [
    "# Now lets create Training and Testing sets for Validation purpose\n",
    "# for this we are going to use the train_test_split class of the sklearn.model_selection module\n",
    "# Lets import the train_test_split\n",
    "from sklearn.model_selection import train_test_split\n",
    "\n",
    "# Now lets use it to split our dataset into training data and testing data\n",
    "x_train, x_test, y_train, y_test = train_test_split(x, y, test_size=0.2, random_state=0)\n",
    "\n",
    "print(\"Shape of x train: \", x_train.shape)\n",
    "print(\"Shape of x test: \", x_test.shape)\n",
    "print(\"Shape of y train: \", y_train.shape)\n",
    "print(\"Shape of y test: \", y_test.shape)"
   ]
  },
  {
   "cell_type": "code",
   "execution_count": 76,
   "id": "operating-gardening",
   "metadata": {},
   "outputs": [],
   "source": [
    "# Lets create a Predictive Model\n",
    "# importing LogisticRegression from the sklearn library\n",
    "from sklearn.linear_model import LogisticRegression"
   ]
  },
  {
   "cell_type": "code",
   "execution_count": 78,
   "id": "compressed-myanmar",
   "metadata": {},
   "outputs": [],
   "source": [
    "model = LogisticRegression()\n",
    "model.fit(x_train, y_train)\n",
    "y_pred = model.predict(x_test)"
   ]
  },
  {
   "cell_type": "code",
   "execution_count": 79,
   "id": "appropriate-mountain",
   "metadata": {},
   "outputs": [],
   "source": [
    "# Lets evaluate the performance of our model\n",
    "# importing confusion_matric from the sklearn library\n",
    "from sklearn.metrics import confusion_matrix"
   ]
  },
  {
   "cell_type": "code",
   "execution_count": 80,
   "id": "chief-luxury",
   "metadata": {},
   "outputs": [
    {
     "data": {
      "image/png": "[encoded data removed]",
      "text/plain": [
       "<Figure size 720x720 with 2 Axes>"
      ]
     },
     "metadata": {
      "needs_background": "light"
     },
     "output_type": "display_data"
    }
   ],
   "source": [
    "# Lets print the confusion matrix\n",
    "plt.rcParams['figure.figsize'] = (10, 10)\n",
    "cm = confusion_matrix(y_test, y_pred)\n",
    "sns.heatmap(cm, annot=True, cmap='Wistia')\n",
    "plt.title('Confusion Matrix for Logistic Regression', fontsize=15)\n",
    "plt.show()"
   ]
  },
  {
   "cell_type": "code",
   "execution_count": 82,
   "id": "ruled-senate",
   "metadata": {},
   "outputs": [
    {
     "name": "stdout",
     "output_type": "stream",
     "text": [
      "              precision    recall  f1-score   support\n",
      "\n",
      "       apple       1.00      1.00      1.00        18\n",
      "      banana       1.00      1.00      1.00        18\n",
      "   blackgram       0.86      0.82      0.84        22\n",
      "    chickpea       1.00      1.00      1.00        23\n",
      "     coconut       1.00      1.00      1.00        15\n",
      "      coffee       1.00      1.00      1.00        17\n",
      "      cotton       0.89      1.00      0.94        16\n",
      "      grapes       1.00      1.00      1.00        18\n",
      "        jute       0.84      1.00      0.91        21\n",
      " kidneybeans       1.00      1.00      1.00        20\n",
      "      lentil       0.94      0.94      0.94        17\n",
      "       maize       0.94      0.89      0.91        18\n",
      "       mango       1.00      1.00      1.00        21\n",
      "   mothbeans       0.88      0.92      0.90        25\n",
      "    mungbean       1.00      1.00      1.00        17\n",
      "   muskmelon       1.00      1.00      1.00        23\n",
      "      orange       1.00      1.00      1.00        23\n",
      "      papaya       1.00      0.95      0.98        21\n",
      "  pigeonpeas       1.00      1.00      1.00        22\n",
      " pomegranate       1.00      1.00      1.00        23\n",
      "        rice       1.00      0.84      0.91        25\n",
      "  watermelon       1.00      1.00      1.00        17\n",
      "\n",
      "    accuracy                           0.97       440\n",
      "   macro avg       0.97      0.97      0.97       440\n",
      "weighted avg       0.97      0.97      0.97       440\n",
      "\n"
     ]
    }
   ],
   "source": [
    "# Lets print the classification report\n",
    "from sklearn.metrics import classification_report\n",
    "cr = classification_report(y_test, y_pred)\n",
    "print(cr)"
   ]
  },
  {
   "cell_type": "markdown",
   "id": "incoming-revelation",
   "metadata": {},
   "source": [
    "From the above result we can see that for all of the 22 classes the value of precision and recall is very high which means our model is very accurate."
   ]
  },
  {
   "cell_type": "code",
   "execution_count": 84,
   "id": "reduced-scout",
   "metadata": {},
   "outputs": [
    {
     "data": {
      "text/html": [
       "<div>\n",
       "<style scoped>\n",
       "    .dataframe tbody tr th:only-of-type {\n",
       "        vertical-align: middle;\n",
       "    }\n",
       "\n",
       "    .dataframe tbody tr th {\n",
       "        vertical-align: top;\n",
       "    }\n",
       "\n",
       "    .dataframe thead th {\n",
       "        text-align: right;\n",
       "    }\n",
       "</style>\n",
       "<table border=\"1\" class=\"dataframe\">\n",
       "  <thead>\n",
       "    <tr style=\"text-align: right;\">\n",
       "      <th></th>\n",
       "      <th>N</th>\n",
       "      <th>P</th>\n",
       "      <th>K</th>\n",
       "      <th>temperature</th>\n",
       "      <th>humidity</th>\n",
       "      <th>ph</th>\n",
       "      <th>rainfall</th>\n",
       "      <th>label</th>\n",
       "    </tr>\n",
       "  </thead>\n",
       "  <tbody>\n",
       "    <tr>\n",
       "      <th>0</th>\n",
       "      <td>90</td>\n",
       "      <td>42</td>\n",
       "      <td>43</td>\n",
       "      <td>20.879744</td>\n",
       "      <td>82.002744</td>\n",
       "      <td>6.502985</td>\n",
       "      <td>202.935536</td>\n",
       "      <td>rice</td>\n",
       "    </tr>\n",
       "    <tr>\n",
       "      <th>1</th>\n",
       "      <td>85</td>\n",
       "      <td>58</td>\n",
       "      <td>41</td>\n",
       "      <td>21.770462</td>\n",
       "      <td>80.319644</td>\n",
       "      <td>7.038096</td>\n",
       "      <td>226.655537</td>\n",
       "      <td>rice</td>\n",
       "    </tr>\n",
       "    <tr>\n",
       "      <th>2</th>\n",
       "      <td>60</td>\n",
       "      <td>55</td>\n",
       "      <td>44</td>\n",
       "      <td>23.004459</td>\n",
       "      <td>82.320763</td>\n",
       "      <td>7.840207</td>\n",
       "      <td>263.964248</td>\n",
       "      <td>rice</td>\n",
       "    </tr>\n",
       "    <tr>\n",
       "      <th>3</th>\n",
       "      <td>74</td>\n",
       "      <td>35</td>\n",
       "      <td>40</td>\n",
       "      <td>26.491096</td>\n",
       "      <td>80.158363</td>\n",
       "      <td>6.980401</td>\n",
       "      <td>242.864034</td>\n",
       "      <td>rice</td>\n",
       "    </tr>\n",
       "    <tr>\n",
       "      <th>4</th>\n",
       "      <td>78</td>\n",
       "      <td>42</td>\n",
       "      <td>42</td>\n",
       "      <td>20.130175</td>\n",
       "      <td>81.604873</td>\n",
       "      <td>7.628473</td>\n",
       "      <td>262.717340</td>\n",
       "      <td>rice</td>\n",
       "    </tr>\n",
       "  </tbody>\n",
       "</table>\n",
       "</div>"
      ],
      "text/plain": [
       "    N   P   K  temperature   humidity        ph    rainfall label\n",
       "0  90  42  43    20.879744  82.002744  6.502985  202.935536  rice\n",
       "1  85  58  41    21.770462  80.319644  7.038096  226.655537  rice\n",
       "2  60  55  44    23.004459  82.320763  7.840207  263.964248  rice\n",
       "3  74  35  40    26.491096  80.158363  6.980401  242.864034  rice\n",
       "4  78  42  42    20.130175  81.604873  7.628473  262.717340  rice"
      ]
     },
     "execution_count": 84,
     "metadata": {},
     "output_type": "execute_result"
    }
   ],
   "source": [
    "# Now lets do some real time prediction\n",
    "# For prediction we need to input the soil and climatic condition into our model\n",
    "# and the output would be the name of the crop which is best to grow\n",
    "# in the given soil and climatic condition.\n",
    "# lets look at some of the input that we can give to our model \n",
    "data.head()"
   ]
  },
  {
   "cell_type": "code",
   "execution_count": 89,
   "id": "reverse-relation",
   "metadata": {},
   "outputs": [
    {
     "name": "stdout",
     "output_type": "stream",
     "text": [
      "The suggested crop for the given soil and climatic conditions is:  ['rice']\n"
     ]
    }
   ],
   "source": [
    "prediction = model.predict((np.array([[90, 40, 40, 20, 80, 7, 200]])))\n",
    "print(\"The suggested crop for the given soil and climatic conditions is: \", prediction)"
   ]
  },
  {
   "cell_type": "markdown",
   "id": "alpha-result",
   "metadata": {},
   "source": [
    "### Our Model has predicted the right crop. And It is ready to predict more."
   ]
  },
  {
   "cell_type": "code",
   "execution_count": null,
   "id": "naughty-booth",
   "metadata": {},
   "outputs": [],
   "source": []
  }
 ],
 "metadata": {
  "kernelspec": {
   "display_name": "Python 3",
   "language": "python",
   "name": "python3"
  },
  "language_info": {
   "codemirror_mode": {
    "name": "ipython",
    "version": 3
   },
   "file_extension": ".py",
   "mimetype": "text/x-python",
   "name": "python",
   "nbconvert_exporter": "python",
   "pygments_lexer": "ipython3",
   "version": "3.6.12"
  }
 },
 "nbformat": 4,
 "nbformat_minor": 5
}
